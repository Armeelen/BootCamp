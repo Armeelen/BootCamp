{
 "cells": [
  {
   "cell_type": "code",
   "execution_count": 5,
   "metadata": {},
   "outputs": [
    {
     "name": "stdout",
     "output_type": "stream",
     "text": [
      "Sucessfully connected to the database\n"
     ]
    }
   ],
   "source": [
    "import psycopg2\n",
    "def connection(db_name, db_user,db_password,db_host,db_port):\n",
    "    try:\n",
    "        conn = psycopg2.connect(\n",
    "            dbname=db_name,\n",
    "            user=db_user,\n",
    "            password=db_password,\n",
    "            host=db_host,\n",
    "            port=db_port\n",
    "        )\n",
    "        print('Sucessfully connected to the database')\n",
    "        return conn\n",
    "    except Exception as e:\n",
    "        print(e)\n",
    "        return None\n",
    "#create connection\n",
    "params={\n",
    "    \"db_name\": \"Tir\",\n",
    "    \"db_user\": \"Tir_owner\",\n",
    "    \"db_password\": 'g4mOfTlj6PcR',\n",
    "    \"db_host\": 'ep-fancy-cake-a5eout3h.us-east-2.aws.neon.tech',\n",
    "    \"db_port\": 5432\n",
    "}\n",
    "conn=connection(**params)\n",
    "conn.autocommit=True\n"
   ]
  },
  {
   "cell_type": "code",
   "execution_count": 6,
   "metadata": {},
   "outputs": [],
   "source": [
    "def execute_query(conn, query):\n",
    "    try:\n",
    "        cursor = conn.cursor()\n",
    "        cursor.execute(query)\n",
    "        # print('Query executed successfully')\n",
    "        return cursor\n",
    "    except Exception as e:\n",
    "        print(f\"Error: {str(e)}\")\n",
    "        return None"
   ]
  },
  {
   "cell_type": "code",
   "execution_count": 7,
   "metadata": {},
   "outputs": [
    {
     "name": "stdout",
     "output_type": "stream",
     "text": [
      "(1, 1000.0, 5)\n"
     ]
    }
   ],
   "source": [
    "query=\"SELECT * FROM sales\"\n",
    "results=execute_query(conn, query).fetchall()\n",
    "for result in results:\n",
    "    print(result)\n",
    "    # print(result[1])"
   ]
  }
 ],
 "metadata": {
  "kernelspec": {
   "display_name": "Python 3",
   "language": "python",
   "name": "python3"
  },
  "language_info": {
   "codemirror_mode": {
    "name": "ipython",
    "version": 3
   },
   "file_extension": ".py",
   "mimetype": "text/x-python",
   "name": "python",
   "nbconvert_exporter": "python",
   "pygments_lexer": "ipython3",
   "version": "3.12.6"
  }
 },
 "nbformat": 4,
 "nbformat_minor": 2
}
